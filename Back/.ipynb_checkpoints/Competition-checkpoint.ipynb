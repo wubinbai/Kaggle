{
 "cells": [
  {
   "cell_type": "code",
   "execution_count": 1,
   "metadata": {},
   "outputs": [],
   "source": [
    "import pandas as pd\n",
    "import matplotlib.pyplot as plt\n",
    "import seaborn as sns\n",
    "import numpy as np\n",
    "from sklearn.preprocessing import StandardScaler\n",
    "from sklearn.ensemble import RandomForestClassifier\n",
    "import warnings\n",
    "warnings.filterwarnings('ignore')\n",
    "from sklearn.tree import DecisionTreeClassifier\n",
    "from sklearn.model_selection import train_test_split\n",
    "from sklearn.preprocessing import LabelEncoder\n",
    "from xgboost import XGBClassifier\n",
    "from sklearn.pipeline import Pipeline,make_pipeline\n",
    "from sklearn.grid_search import GridSearchCV, RandomizedSearchCV\n",
    "from sklearn.feature_selection import SelectKBest\n",
    "from sklearn.model_selection import cross_val_score\n",
    "from sklearn.model_selection import StratifiedKFold"
   ]
  },
  {
   "cell_type": "code",
   "execution_count": 2,
   "metadata": {},
   "outputs": [],
   "source": [
    "airline      = pd.read_csv('airline.csv')\n",
    "day_schedule = pd.read_csv('day_schedule.csv')\n",
    "group        = pd.read_csv('group.csv')\n",
    "order        = pd.read_csv('order.csv')\n",
    "training     = pd.read_csv('training-set.csv')\n",
    "testing     = pd.read_csv('testing-set.csv')"
   ]
  },
  {
   "cell_type": "code",
   "execution_count": 3,
   "metadata": {},
   "outputs": [],
   "source": [
    "train = pd.merge(order, training, on='order_id', how='inner') \n",
    "test  = pd.merge(order, testing, on='order_id', how='inner') \n",
    "data  = pd.concat([train,test])"
   ]
  },
  {
   "cell_type": "code",
   "execution_count": 4,
   "metadata": {},
   "outputs": [
    {
     "data": {
      "text/plain": [
       "297020"
      ]
     },
     "execution_count": 4,
     "metadata": {},
     "output_type": "execute_result"
    }
   ],
   "source": [
    "len(data)"
   ]
  },
  {
   "cell_type": "code",
   "execution_count": 5,
   "metadata": {},
   "outputs": [],
   "source": [
    "#source1、source2 轉成數字\n",
    "source1_map ={\n",
    "    'src1_value_1' : 1,\n",
    "    'src1_value_2' : 2,\n",
    "    'src1_value_3' : 3,\n",
    "}\n",
    "source2_map ={\n",
    "    'src2_value_1' : 1,\n",
    "    'src2_value_2' : 2,\n",
    "    'src2_value_3' : 3,\n",
    "    'src2_value_4' : 4,\n",
    "}\n",
    "data.source_1 = data.source_1.map(source1_map)\n",
    "data.source_2 = data.source_2.map(source2_map)"
   ]
  },
  {
   "cell_type": "code",
   "execution_count": 6,
   "metadata": {
    "scrolled": true
   },
   "outputs": [
    {
     "data": {
      "text/plain": [
       "source_1\n",
       "1    0.182412\n",
       "2    0.225285\n",
       "3    0.350172\n",
       "Name: deal_or_not, dtype: float64"
      ]
     },
     "execution_count": 6,
     "metadata": {},
     "output_type": "execute_result"
    },
    {
     "data": {
      "image/png": "[encoded data removed]",
      "text/plain": [
       "<Figure size 432x288 with 1 Axes>"
      ]
     },
     "metadata": {},
     "output_type": "display_data"
    }
   ],
   "source": [
    "sns.barplot(data = data, x = 'source_1', y = 'deal_or_not')\n",
    "data.groupby(['source_1'])['deal_or_not'].mean()"
   ]
  },
  {
   "cell_type": "code",
   "execution_count": 7,
   "metadata": {
    "scrolled": true
   },
   "outputs": [
    {
     "data": {
      "text/plain": [
       "source_2\n",
       "1    0.193227\n",
       "2    0.277556\n",
       "3    0.179337\n",
       "4    0.298112\n",
       "Name: deal_or_not, dtype: float64"
      ]
     },
     "execution_count": 7,
     "metadata": {},
     "output_type": "execute_result"
    },
    {
     "data": {
      "image/png": "[encoded data removed]",
      "text/plain": [
       "<Figure size 432x288 with 1 Axes>"
      ]
     },
     "metadata": {},
     "output_type": "display_data"
    }
   ],
   "source": [
    "sns.barplot(data = data, x = 'source_2', y = 'deal_or_not')\n",
    "data.groupby(['source_2'])['deal_or_not'].mean()"
   ]
  },
  {
   "cell_type": "code",
   "execution_count": 8,
   "metadata": {
    "scrolled": true
   },
   "outputs": [
    {
     "data": {
      "text/plain": [
       "people_amount\n",
       "1     0.201971\n",
       "2     0.193282\n",
       "3     0.204646\n",
       "4     0.210774\n",
       "5     0.196064\n",
       "6     0.187269\n",
       "7     0.241863\n",
       "8     0.213225\n",
       "9     0.254480\n",
       "10    0.193168\n",
       "11    0.279176\n",
       "12    0.259130\n",
       "13    0.301887\n",
       "14    0.274510\n",
       "15    0.143145\n",
       "16    0.144654\n",
       "17    0.125581\n",
       "18    0.298701\n",
       "19    0.123457\n",
       "20    0.072464\n",
       "21    0.294118\n",
       "22    0.459459\n",
       "23    0.196078\n",
       "24    0.103093\n",
       "25    0.046667\n",
       "26    0.205128\n",
       "27    0.065217\n",
       "28    0.178571\n",
       "29    0.000000\n",
       "30    0.093750\n",
       "31    0.057692\n",
       "32    0.060606\n",
       "33    0.111111\n",
       "34    0.050000\n",
       "35    0.066667\n",
       "36    0.285714\n",
       "37    0.000000\n",
       "38    0.200000\n",
       "39    0.166667\n",
       "40    0.000000\n",
       "41    0.333333\n",
       "50    0.000000\n",
       "Name: deal_or_not, dtype: float64"
      ]
     },
     "execution_count": 8,
     "metadata": {},
     "output_type": "execute_result"
    },
    {
     "data": {
      "image/png": "[encoded data removed]",
      "text/plain": [
       "<Figure size 432x288 with 1 Axes>"
      ]
     },
     "metadata": {},
     "output_type": "display_data"
    }
   ],
   "source": [
    "sns.barplot(data = train, x = 'people_amount', y = 'deal_or_not')\n",
    "train.groupby(['people_amount'])['deal_or_not'].mean()"
   ]
  },
  {
   "cell_type": "code",
   "execution_count": 9,
   "metadata": {},
   "outputs": [
    {
     "data": {
      "text/html": [
       "<div>\n",
       "<style scoped>\n",
       "    .dataframe tbody tr th:only-of-type {\n",
       "        vertical-align: middle;\n",
       "    }\n",
       "\n",
       "    .dataframe tbody tr th {\n",
       "        vertical-align: top;\n",
       "    }\n",
       "\n",
       "    .dataframe thead th {\n",
       "        text-align: right;\n",
       "    }\n",
       "</style>\n",
       "<table border=\"1\" class=\"dataframe\">\n",
       "  <thead>\n",
       "    <tr style=\"text-align: right;\">\n",
       "      <th></th>\n",
       "      <th>order_id</th>\n",
       "      <th>group_id</th>\n",
       "      <th>order_date</th>\n",
       "      <th>source_1</th>\n",
       "      <th>source_2</th>\n",
       "      <th>unit</th>\n",
       "      <th>people_amount</th>\n",
       "      <th>deal_or_not</th>\n",
       "    </tr>\n",
       "  </thead>\n",
       "  <tbody>\n",
       "    <tr>\n",
       "      <th>0</th>\n",
       "      <td>41571</td>\n",
       "      <td>53481</td>\n",
       "      <td>14-Mar-17</td>\n",
       "      <td>src1_value_1</td>\n",
       "      <td>src2_value_1</td>\n",
       "      <td>unit_value_4</td>\n",
       "      <td>4</td>\n",
       "      <td>1</td>\n",
       "    </tr>\n",
       "    <tr>\n",
       "      <th>1</th>\n",
       "      <td>64125</td>\n",
       "      <td>53481</td>\n",
       "      <td>27-Mar-17</td>\n",
       "      <td>src1_value_2</td>\n",
       "      <td>src2_value_1</td>\n",
       "      <td>unit_value_5</td>\n",
       "      <td>1</td>\n",
       "      <td>1</td>\n",
       "    </tr>\n",
       "    <tr>\n",
       "      <th>2</th>\n",
       "      <td>76131</td>\n",
       "      <td>53481</td>\n",
       "      <td>19-Apr-17</td>\n",
       "      <td>src1_value_2</td>\n",
       "      <td>src2_value_2</td>\n",
       "      <td>unit_value_6</td>\n",
       "      <td>2</td>\n",
       "      <td>0</td>\n",
       "    </tr>\n",
       "    <tr>\n",
       "      <th>3</th>\n",
       "      <td>238671</td>\n",
       "      <td>53481</td>\n",
       "      <td>19-Apr-17</td>\n",
       "      <td>src1_value_2</td>\n",
       "      <td>src2_value_2</td>\n",
       "      <td>unit_value_6</td>\n",
       "      <td>2</td>\n",
       "      <td>0</td>\n",
       "    </tr>\n",
       "    <tr>\n",
       "      <th>4</th>\n",
       "      <td>93305</td>\n",
       "      <td>41766</td>\n",
       "      <td>3-May-17</td>\n",
       "      <td>src1_value_2</td>\n",
       "      <td>src2_value_1</td>\n",
       "      <td>unit_value_5</td>\n",
       "      <td>1</td>\n",
       "      <td>1</td>\n",
       "    </tr>\n",
       "  </tbody>\n",
       "</table>\n",
       "</div>"
      ],
      "text/plain": [
       "   order_id  group_id order_date      source_1      source_2          unit  \\\n",
       "0     41571     53481  14-Mar-17  src1_value_1  src2_value_1  unit_value_4   \n",
       "1     64125     53481  27-Mar-17  src1_value_2  src2_value_1  unit_value_5   \n",
       "2     76131     53481  19-Apr-17  src1_value_2  src2_value_2  unit_value_6   \n",
       "3    238671     53481  19-Apr-17  src1_value_2  src2_value_2  unit_value_6   \n",
       "4     93305     41766   3-May-17  src1_value_2  src2_value_1  unit_value_5   \n",
       "\n",
       "   people_amount  deal_or_not  \n",
       "0              4            1  \n",
       "1              1            1  \n",
       "2              2            0  \n",
       "3              2            0  \n",
       "4              1            1  "
      ]
     },
     "execution_count": 9,
     "metadata": {},
     "output_type": "execute_result"
    }
   ],
   "source": [
    "train.head()"
   ]
  },
  {
   "cell_type": "code",
   "execution_count": 10,
   "metadata": {},
   "outputs": [],
   "source": [
    "train = data[0:146620]\n",
    "test  = data[146620:300000]"
   ]
  },
  {
   "cell_type": "code",
   "execution_count": 11,
   "metadata": {},
   "outputs": [],
   "source": [
    "#airline 轉機處理\n",
    "airline_group = airline.groupby(['group_id']).sum()"
   ]
  },
  {
   "cell_type": "code",
   "execution_count": 12,
   "metadata": {},
   "outputs": [],
   "source": [
    "Go_Transfer_map = {\n",
    "    '去程回程' : 0,\n",
    "    '去程去程回程回程' : 1,\n",
    "    '去程去程去程回程回程回程' : 2, \n",
    "    '去程回程回程' : 0,\n",
    "    '去程去程' : 0, \n",
    "    '去程去程回程' : 1,\n",
    "    '去程去程去程去程' : 1,\n",
    "    '去程去程去程回程回程' : 2,\n",
    "    '去程去程回程回程回程' : 1,\n",
    "    '回程去程' : 0,\n",
    "    '去程去程去程回程' : 1,\n",
    "    '去程去程回程回程去程回程': 1,\n",
    "    '去程去程去程回程回程回程回程' : 2,\n",
    "    '去程回程去程回程' : 1,\n",
    "    '去程' : 1,\n",
    "    '去程回程去程去程回程回程': 1\n",
    "}\n",
    "Back_Transfer_map = {\n",
    "    '去程回程' : 0,\n",
    "    '去程去程回程回程' : 1,\n",
    "    '去程去程去程回程回程回程' : 2, \n",
    "    '去程回程回程' : 1,\n",
    "    '去程去程' : 0, \n",
    "    '去程去程回程' : 0,\n",
    "    '去程去程去程去程' : 1,\n",
    "    '去程去程去程回程回程' : 1,\n",
    "    '去程去程回程回程回程' : 2,\n",
    "    '回程去程' : 0,\n",
    "    '去程去程去程回程' : 1,\n",
    "    '去程去程回程回程去程回程': 1,\n",
    "    '去程去程去程回程回程回程回程' : 3,\n",
    "    '去程回程去程回程' : 1,\n",
    "    '去程' : 1,\n",
    "    '去程回程去程去程回程回程': 1\n",
    "}"
   ]
  },
  {
   "cell_type": "code",
   "execution_count": 13,
   "metadata": {},
   "outputs": [],
   "source": [
    "airline_group['Go_Transfer_map'] = airline_group['go_back'].map(Go_Transfer_map)\n",
    "airline_group['Back_Transfer_map'] = airline_group['go_back'].map(Back_Transfer_map) \n",
    "airline_group.reset_index(level=0, inplace=True)"
   ]
  },
  {
   "cell_type": "code",
   "execution_count": 14,
   "metadata": {},
   "outputs": [],
   "source": [
    "airline_group.drop(['go_back'], inplace= True, axis=1)"
   ]
  },
  {
   "cell_type": "code",
   "execution_count": 15,
   "metadata": {},
   "outputs": [],
   "source": [
    "data = pd.merge(data, airline_group, on='group_id', how='left') "
   ]
  },
  {
   "cell_type": "code",
   "execution_count": 16,
   "metadata": {},
   "outputs": [],
   "source": [
    "data['Go_Transfer_map'].fillna(-1, inplace =True)\n",
    "data['Back_Transfer_map'].fillna(-1, inplace =True)\n",
    "data['Transfer_Sum'] = data['Go_Transfer_map']+data['Back_Transfer_map']\n",
    "train = data[0:146620]\n",
    "test  = data[146620:300000]"
   ]
  },
  {
   "cell_type": "code",
   "execution_count": 17,
   "metadata": {
    "scrolled": true
   },
   "outputs": [
    {
     "data": {
      "text/plain": [
       "<matplotlib.axes._subplots.AxesSubplot at 0x1feea929898>"
      ]
     },
     "execution_count": 17,
     "metadata": {},
     "output_type": "execute_result"
    },
    {
     "data": {
      "image/png": "[encoded data removed]",
      "text/plain": [
       "<Figure size 432x288 with 1 Axes>"
      ]
     },
     "metadata": {},
     "output_type": "display_data"
    }
   ],
   "source": [
    "sns.barplot(data = data, x = 'Transfer_Sum', y = 'deal_or_not')"
   ]
  },
  {
   "cell_type": "code",
   "execution_count": 18,
   "metadata": {},
   "outputs": [],
   "source": [
    "# airline 起飛降落時間點\n",
    "#data.drop(['fly_time','arrive_time'],axis =1, inplace = True)"
   ]
  },
  {
   "cell_type": "code",
   "execution_count": 19,
   "metadata": {},
   "outputs": [],
   "source": [
    "#airline['take_off_interval'] = airline.fly_time.apply(lambda x : x.split(' ')[1])   # 起飛時間\n",
    "#airline['land_off_interval'] = airline.arrive_time.apply(lambda x : x.split(' ')[1])   #降落時間"
   ]
  },
  {
   "cell_type": "code",
   "execution_count": 20,
   "metadata": {},
   "outputs": [],
   "source": [
    "#airline['take_off_time'] = airline['take_off_interval'].apply(lambda x : 'morning' if '14:00'> x >'05:59' else 'afternoon' if '13:59' < x < '22:00' else 'night')\n",
    "#airline['land_time'] = airline['land_off_interval'].apply(lambda x : 'morning' if '14:00'> x >'05:59' else 'afternoon' if '13:59' < x < '22:00' else 'night')"
   ]
  },
  {
   "cell_type": "code",
   "execution_count": 21,
   "metadata": {},
   "outputs": [],
   "source": [
    "#airline = airline[['group_id','take_off_time','land_time']]"
   ]
  },
  {
   "cell_type": "code",
   "execution_count": 22,
   "metadata": {},
   "outputs": [],
   "source": [
    "#airline"
   ]
  },
  {
   "cell_type": "code",
   "execution_count": 23,
   "metadata": {},
   "outputs": [],
   "source": [
    "#airline dst_area"
   ]
  },
  {
   "cell_type": "code",
   "execution_count": 24,
   "metadata": {},
   "outputs": [],
   "source": [
    "country = {\n",
    "    'HNL 檀香山機場'   :    '美國夏威夷'      ,   \n",
    "    'TPE 桃園機場'   :   '台灣'       ,  \n",
    "    'LAX 洛杉機機場'   :  '美國'        ,\n",
    "    'SFO 舊金山機場'   :   '美國'    ,\n",
    "    'SEA 西雅圖機場'   :   '美國'       ,\n",
    "    'ORD 芝加哥歐海爾機場'   :  '美國'        ,\n",
    "    'ANC 安克拉治機場'   :   '美國'       ,\n",
    "    'FAI 費爾班機場'   :   '美國' ,\n",
    "    'AKL 奧克蘭機場'   :   '紐西蘭'       ,\n",
    "    'SYD 雪梨機場'   :   '澳洲'       ,\n",
    "    'CHC 基督城機場'   :   '紐西蘭'       ,\n",
    "    'YYZ 多倫多機場'   :    '美國'      ,\n",
    "    'JFK 紐約甘乃迪機場'   :   '美國'  ,\n",
    "    'IAH 休士頓機場'   :    '美國'   ,\n",
    "    'HKG 香港機場'   :    '香港'      ,\n",
    "    'EWR 紐約紐華克機場'   :  '美國'        ,\n",
    "    'BZN 波茲曼機場'   :   '美國'      ,\n",
    "    'KHH 高雄機場'   :  '台灣'        ,\n",
    "    'DEN 丹佛機場'   :    '美國'    ,\n",
    "    'YVR 溫哥華機場'   :    '加拿大'   ,\n",
    "    'PEK 北京首都機場'   :  '中國'        ,\n",
    "    'TSN 天津濱海機場'   :  '中國'        ,\n",
    "    'TSA 台北松山機場'   :  '台灣'    ,\n",
    "    'SJW 石家莊正定機場'   :   '中國'       ,\n",
    "    'WUH 武漢天河機場'   :  '中國'     ,\n",
    "    'CKG 重慶江北機場'   :    '中國'      ,\n",
    "    'PVG 上海浦東機場'   :     '中國'     ,\n",
    "    'HGH 杭州蕭山機場'   :    '中國'      ,\n",
    "    'NGB 寧波櫟社機場'   :     '中國'     ,\n",
    "    'CAN 廣州白雲機場'   :    '中國'      ,\n",
    "    'WUX 無鍚機場'   :      '中國'    ,\n",
    "    'NKG 南京祿口機場'   :   '中國'       ,\n",
    "    'WNZ 溫州龍灣國際機場' :  '中國'        ,\n",
    "    'SHA 上海虹橋機場'   :    '中國'      ,\n",
    "    'YNZ 鹽城南洋機場'   :     '中國'     ,\n",
    "    'YTY 揚州泰州機場'   :     '中國'     ,\n",
    "    'XIY 西安咸陽機場'   :    '中國'      ,\n",
    "    'CGO 鄭州新鄭機場'   :     '中國'     ,\n",
    "    'TYN 太原武宿機場'   :     '中國'     ,\n",
    "    'XUZ 徐州觀音機場'   :     '中國'     ,\n",
    "    'KHN 南昌昌北機場'   :     '中國'     ,\n",
    "    'FOC 福州長樂機場'   :      '中國'    ,\n",
    "    'HET 呼和浩特白塔機場'   :    '中國'      ,\n",
    "    'HRB 哈爾濱太平機場'   :    '中國'      ,\n",
    "    'INC 銀川河東機場'   :    '中國'      ,\n",
    "    'TXN 黃山屯溪機場'   :    '中國'      ,\n",
    "    'HFE 合肥新橋機場'   :    '中國'      ,\n",
    "    'NNG 南寧吳墟機場'   :    '中國'     ,\n",
    "    'KWL 桂林兩江機場'   :    '中國'     ,\n",
    "    'CTU 成都雙流機場'   :    '中國'      ,\n",
    "    'LXA 拉薩貢嘎機場'   :    '中國'      ,\n",
    "    'XMN 廈門高崎機場'   :    '中國'      ,\n",
    "    'MFM 澳門機場'   :      '澳門'   ,\n",
    "    'SYX 三亞鳳凰機場'   :    '中國'      ,\n",
    "    'HAK 海口美蘭機場'   :     '中國'     ,\n",
    "    'KWE 貴陽龍洞堡機場'   :   '中國'       ,\n",
    "    'KMG 昆明長水機場'   :    '中國'      ,\n",
    "    'CGQ 長春龍嘉機場'   :     '中國'     ,\n",
    "    'SHE 瀋陽桃仙機場'   :     '中國'     ,\n",
    "    'DLC 大連機場'   :      '中國'    ,\n",
    "    'TNA 濟南遙牆機場'   :   '中國'       ,\n",
    "    'TAO 青島流亭機場'   :    '中國'      ,\n",
    "    'WEH 威海大水泊機場'   :    '中國'      ,\n",
    "    'YNT 煙台蓬萊機場'   :      '中國'    ,\n",
    "    'KNH 金門機場'   :   '台灣'       ,\n",
    "    'LJG 麗江三義機場'   :    '中國'      ,\n",
    "    'SZX 深圳寶安機場'   :     '中國'     ,\n",
    "    'URC 烏魯木齊地窩鋪機場'   :   '中國'       ,\n",
    "    'LHW 蘭州中川機場'   :     '中國'     ,\n",
    "    'XNN 西寧曹家堡機場'   :    '中國'      ,\n",
    "    'CSX 長沙黃花機場'   :      '中國'    ,\n",
    "    'DYG 張家界機場'   :     '中國'     ,\n",
    "    'VIE 維也納機場'   :     '奧地利'     ,\n",
    "    'ZRH 蘇黎世機場'   :      '瑞士'    ,\n",
    "    'FRA 法蘭克福機場'   :    '德國'      ,\n",
    "    'LHR 倫敦希斯洛機場'   :    '英國'      ,\n",
    "    'KEF 雷克雅維克機場'   :    '冰島'      ,\n",
    "    'DXB 杜拜機場'   :    '阿拉伯聯合大公國'      ,\n",
    "    'CPH 哥本哈根凱斯楚普機場'   :    '丹麥'      ,\n",
    "    'ARN 斯德哥爾摩阿蘭達機場'   :     '瑞典'     ,\n",
    "    'IST 伊斯坦堡阿塔圖克機場'   :    '土耳其'      ,\n",
    "    'HEL 赫爾辛基機場'   :     '芬蘭'     ,\n",
    "    'AMS 阿姆斯特丹機場'   :   '芬蘭'       ,\n",
    "    'DBV 杜布洛尼克機場'   :     '克羅埃西亞'     ,\n",
    "    'SVO 莫斯科謝列梅捷沃機場'   :    '俄羅斯'      ,\n",
    "    'LED 聖彼得堡機場'   :    '俄羅斯'      ,\n",
    "    'VNO 維爾紐斯機場'   :    '立陶宛'      ,\n",
    "    'TIA 地拉那機場'   :    '阿爾巴尼亞'      ,\n",
    "    'PRG 布拉格機場'   :     '捷克'     ,\n",
    "    'BUD 布達佩斯機場'   :     '匈牙利'     ,\n",
    "    'LJU 盧布爾雅那機場'   :    '斯洛維尼亞共和國'      ,\n",
    "    'SOF 索菲亞機場'   :    '保加利亞'      ,\n",
    "    'WAW 華沙機場'   :    '波蘭'      ,\n",
    "    'ZAG 札格雷布機場'   :    '克羅地亞'      ,\n",
    "    'KUN KAUNAS'   :     '立陶宛'     ,\n",
    "    'DUS 杜塞道夫機場'   :    '德國'      ,\n",
    "    'TGD 波德戈里察機場'   :   '蒙特內哥羅'       ,\n",
    "    'BKK 曼谷蘇凡納布機場'   :    '泰國'      ,\n",
    "    'CDG 巴黎戴高樂機場'   :    '法國'      ,\n",
    "    'MXP 米蘭馬爾彭薩機場'   :    '義大利'      ,\n",
    "    'FCO 羅馬達文西機場'   :    '義大利'      ,\n",
    "    'VCE 威尼斯機場'   :    '義大利'      ,\n",
    "    'NAP 拿波里機場'   :   '義大利'       ,\n",
    "    'AUH 阿布達比機場'   :    '阿拉伯聯合大公國'      ,\n",
    "    'LGW 倫敦蓋威克機場'   :    '英國'      ,\n",
    "    'LIS 里斯本機場'   :     '葡萄牙'     ,\n",
    "    'MAD 馬德里機場'   :    '西班牙'      ,\n",
    "    'BCN 巴塞隆納機場'   :  '西班牙'        ,\n",
    "    'CMN 卡薩布蘭卡機場'   :   '摩洛哥王國'       ,\n",
    "    'AGP 馬拉加機場'   :   '西班牙'       ,\n",
    "    'BRU 布魯塞爾機場'   :   '比利時'       ,\n",
    "    'NCE 尼斯機場'   :    '法國'      ,\n",
    "    'FUK 福岡機場'   :    '日本'      ,\n",
    "    'KOJ 鹿兒島機場'   :   '日本'       ,\n",
    "    'KMJ 熊本機場'   :    '日本'      ,\n",
    "    'KMI 宮崎機場'   :     '日本'     ,\n",
    "    'UBJ 山口宇部機場'   :    '日本'      ,\n",
    "    'CTS 札幌新千歲機場'   :    '日本'      ,\n",
    "    'HKD 函館機場'   :    '日本'      ,\n",
    "    'OBO 帶廣機場'   :    '日本'      ,\n",
    "    'HND 東京羽田機場'   :   '日本'       ,\n",
    "    'AKJ 旭川機場'   :    '日本'      ,\n",
    "    'ICN 首爾仁川機場'   :    '韓國'      ,\n",
    "    'PUS 釜山金海機場'   :   '韓國'       ,\n",
    "    'GMP 首爾金浦機場'   :  '韓國'        ,\n",
    "    'CJU 濟州機場'   :    '韓國'      ,\n",
    "    'TAE 大邱機場'   :     '韓國'     ,\n",
    "    'CJJ 清州機場'   :    '韓國'     ,\n",
    "    'OKA 沖繩機場'   :    '日本'      ,\n",
    "    'KMQ 小松機場'   :    '日本'      ,\n",
    "    'NGO 名古屋中部機場'   :  '日本'        ,\n",
    "    'TOY 富山機場'   :    '日本'      ,\n",
    "    'RMQ 台中機場'   :   '台灣'       ,\n",
    "    'MMJ 松本機場'   :   '日本'       ,\n",
    "    'SDJ 仙台機場'   :    '日本'      ,\n",
    "    'KIJ 新潟機場'   :    '日本'      ,\n",
    "    'AOJ 青森機場'   :     '日本'     ,\n",
    "    'AXT 秋田機場'   :    '日本'      ,\n",
    "    'HNA 花卷'   :     '日本'     ,\n",
    "    'GAJ 山形機場'   :   '日本'       ,\n",
    "    'NRT 東京成田機場'   :   '日本'       ,\n",
    "    'FSZ 靜岡機場'   :    '日本'      ,\n",
    "    'KIX 大阪關西機場'   :   '日本'        ,\n",
    "    'TNN 台南機場'   :     '台灣'     ,\n",
    "    'TAK 高松機場'   :    '日本'      ,\n",
    "    'HIJ 廣島機場'   :    '日本'      ,\n",
    "    'OKJ 岡山機場'   :    '日本'      ,\n",
    "    'IZO 出雲'   :    '日本'      ,\n",
    "    'MYJ 愛媛松山機場'   :   '日本'       ,\n",
    "    'CEB 宿霧機場'   :    '菲律賓'      ,\n",
    "    'KLO 卡里博機場'   :   '菲律賓'       ,\n",
    "    'MNL 馬尼拉機場'   :    '菲律賓'      ,\n",
    "    'PPS 公主港機場'   :   '菲律賓'       ,\n",
    "    'BNE 布里斯班機場'   :   '澳洲'       ,\n",
    "    'MEL 墨爾本機場'   :     '澳洲'     ,\n",
    "    'OOL 黃金海岸機場'   :  '澳洲'        ,\n",
    "    'CNS 凱恩斯機場'   :    '澳洲'      ,\n",
    "    'DPS 峇里島機場'   :   '印尼'       ,\n",
    "    'CGK 雅加達機場'   :   '印尼'       ,\n",
    "    'PNH 金邊機場'   :    '柬埔寨'      ,\n",
    "    'REP 暹粒吳哥機場'   :   '柬埔寨'       ,\n",
    "    'BKI 亞庇機場'   :   '馬來西亞'       ,\n",
    "    'KUL 吉隆坡機場'   :   '馬來西亞'       ,\n",
    "    'PEN 檳城機場'   :    '馬來西亞'      ,\n",
    "    'SIN 新加坡機場'   :   '新加坡'       ,\n",
    "    'LBU 拉布安機場'   :    '印尼'      ,\n",
    "    'HKT 普吉機場'   :   '泰國'       ,\n",
    "    'CNX 清邁機場'   :    '泰國'      ,\n",
    "    'DMK 曼谷廊曼機場'   :   '泰國'       ,\n",
    "    'HAN 河內機場'   :     '越南'     ,\n",
    "    'DAD 峴港機場'   :      '越南'    ,\n",
    "    'SGN 胡志明市新山機場'   :   '越南'       ,\n",
    "    'JNB 約翰尼斯堡機場'   :       '南非'   ,\n",
    "    'CPT 開普敦機場'   :     '南非'      ,\n",
    "    'DOH 杜哈機場'   :      '卡達爾'    ,\n",
    "    'KTM 加德滿都機場'   :   '尼泊爾'       ,\n",
    "    'DEL 德里機場'   :      '印度'    ,\n",
    "    'CMB 可倫坡機場'   :    '斯里蘭卡'      ,\n",
    "    'VNS 瓦那那西機場'   :     '印度'     ,\n",
    "    'HJR 卡修拉荷機場'   :     '印度'     ,\n",
    "    'SXR 斯里那加機場'   :'查謨-克什米爾邦',\n",
    "    'JAI 捷普機場'   :  '印度'   ,\n",
    "    'CAI 開羅機場' :  '埃及'    ,\n",
    "    'AMM 安曼機場'  :  '約旦'        ,\n",
    "    'ESB 安卡拉埃森博阿機場'   :   '土耳其'     ,\n",
    "    'LXR 路克索機場'   :   '埃及'    ,\n",
    "    'TLV 特拉維夫本古里安機場'   :  '以色列'    ,\n",
    "    'IKA 德黑蘭機場'   :  '伊朗'    ,\n",
    "    'ASR 開塞利機場'   :    '土耳其'      ,\n",
    "    'ATH 雅典機場'   :     '希臘'     ,\n",
    "    'SKG 塞薩洛尼基機場'   :   '希臘'  ,\n",
    "    'ADB 伊茲米爾機場'   :  '土耳其'      ,\n",
    "    'TAS 塔什干機場'  :     '烏茲別克'\n",
    "}           "
   ]
  },
  {
   "cell_type": "code",
   "execution_count": 25,
   "metadata": {},
   "outputs": [],
   "source": [
    "airline      = pd.read_csv('airline.csv')\n",
    "new_airline = airline[airline['go_back'] == '去程'].groupby(['group_id']).last()\n",
    "new_airline['dst_area'] = new_airline['dst_airport'].map(country)\n",
    "new_airline.reset_index(inplace = True)"
   ]
  },
  {
   "cell_type": "code",
   "execution_count": 26,
   "metadata": {},
   "outputs": [
    {
     "data": {
      "text/plain": [
       "34952"
      ]
     },
     "execution_count": 26,
     "metadata": {},
     "output_type": "execute_result"
    }
   ],
   "source": [
    "len(new_airline)"
   ]
  },
  {
   "cell_type": "code",
   "execution_count": 27,
   "metadata": {},
   "outputs": [
    {
     "data": {
      "text/plain": [
       "297020"
      ]
     },
     "execution_count": 27,
     "metadata": {},
     "output_type": "execute_result"
    }
   ],
   "source": [
    "len(data)"
   ]
  },
  {
   "cell_type": "code",
   "execution_count": 28,
   "metadata": {},
   "outputs": [
    {
     "data": {
      "text/plain": [
       "297020"
      ]
     },
     "execution_count": 28,
     "metadata": {},
     "output_type": "execute_result"
    }
   ],
   "source": [
    "len(data)"
   ]
  },
  {
   "cell_type": "code",
   "execution_count": 29,
   "metadata": {},
   "outputs": [],
   "source": [
    "#group處理"
   ]
  },
  {
   "cell_type": "code",
   "execution_count": 30,
   "metadata": {},
   "outputs": [],
   "source": [
    "data = pd.merge(data, group, on = 'group_id', how = 'left')"
   ]
  },
  {
   "cell_type": "code",
   "execution_count": 31,
   "metadata": {},
   "outputs": [
    {
     "data": {
      "text/plain": [
       "297020"
      ]
     },
     "execution_count": 31,
     "metadata": {},
     "output_type": "execute_result"
    }
   ],
   "source": [
    "len(data)"
   ]
  },
  {
   "cell_type": "code",
   "execution_count": 32,
   "metadata": {},
   "outputs": [],
   "source": [
    "data['price_interval4'] = pd.cut(data['price'], bins= 4)\n",
    "data['price_interval5'] = pd.cut(data['price'], bins= 5)\n",
    "label = LabelEncoder()\n",
    "data['price_interval4'] = label.fit_transform(data['price_interval4'])\n",
    "data['price_interval5'] = label.fit_transform(data['price_interval5'])"
   ]
  },
  {
   "cell_type": "code",
   "execution_count": 33,
   "metadata": {},
   "outputs": [
    {
     "data": {
      "text/plain": [
       "dtype('int64')"
      ]
     },
     "execution_count": 33,
     "metadata": {},
     "output_type": "execute_result"
    }
   ],
   "source": [
    "data['price_interval4'].dtype"
   ]
  },
  {
   "cell_type": "code",
   "execution_count": 34,
   "metadata": {},
   "outputs": [],
   "source": [
    "train = data[0:146620]\n",
    "test  = data[146620:300000]"
   ]
  },
  {
   "cell_type": "code",
   "execution_count": 57,
   "metadata": {},
   "outputs": [
    {
     "name": "stdout",
     "output_type": "stream",
     "text": [
      "[0.66623162 0.66482127 0.64809573 0.64606077 0.65140364 0.65621359\n",
      " 0.67053006 0.67190947 0.6718     0.65334692]\n",
      "0.6608989020828874\n"
     ]
    }
   ],
   "source": [
    "model = RandomForestClassifier()\n",
    "k_cv = StratifiedKFold(n_splits= 10, random_state= 42)\n",
    "train_feature = train[['order_id','group_id','days']]\n",
    "train_label   = train['deal_or_not']\n",
    "print(cross_val_score(model, train_feature, train_label, cv=k_cv, scoring= 'roc_auc'))\n",
    "print(cross_val_score(model, train_feature, train_label, cv=k_cv, scoring= 'roc_auc').mean())"
   ]
  },
  {
   "cell_type": "code",
   "execution_count": 58,
   "metadata": {},
   "outputs": [
    {
     "data": {
      "text/plain": [
       "array([0.62855396, 0.36778862, 0.00365742])"
      ]
     },
     "execution_count": 58,
     "metadata": {},
     "output_type": "execute_result"
    }
   ],
   "source": [
    "model.fit(train_feature, train_label)\n",
    "model.feature_importances_"
   ]
  },
  {
   "cell_type": "code",
   "execution_count": 59,
   "metadata": {},
   "outputs": [],
   "source": [
    "test_feature = test[['order_id','group_id','days']]\n",
    "model.fit(train_feature, train_label)\n",
    "test_label = model.predict(test_feature)"
   ]
  },
  {
   "cell_type": "code",
   "execution_count": 39,
   "metadata": {},
   "outputs": [
    {
     "data": {
      "text/plain": [
       "150400"
      ]
     },
     "execution_count": 39,
     "metadata": {},
     "output_type": "execute_result"
    }
   ],
   "source": [
    "len(test['order_id'])"
   ]
  },
  {
   "cell_type": "code",
   "execution_count": 60,
   "metadata": {},
   "outputs": [],
   "source": [
    "submission = pd.DataFrame({\n",
    "    \"order_id\" :  test['order_id'],\n",
    "    \"deal_or_not\" : test_label\n",
    "})\n",
    "submission.to_csv('submission11_16_2.csv', index=False)"
   ]
  },
  {
   "cell_type": "code",
   "execution_count": 41,
   "metadata": {},
   "outputs": [],
   "source": [
    "month = {'Jan': '01', 'Feb': '02' , 'Mar':'03' ,'Apr': '04',\n",
    "\n",
    "'May': '05', 'Jun': '06' , 'Jul': '07' , 'Aug':'08',\n",
    "\n",
    "'Sep':'09', 'Oct':'10' , 'Nov':'11', 'Dec':'12' }\n",
    "\n",
    "def Convert_Date(x):\n",
    "    Year='20'+x[-2:]\n",
    "    Month=month[x[-6:-3]]\n",
    "    Day=x[:-7]\n",
    "    return pd.to_datetime(Year+'-'+Month+'-'+Day)"
   ]
  },
  {
   "cell_type": "code",
   "execution_count": 42,
   "metadata": {},
   "outputs": [
    {
     "data": {
      "text/plain": [
       "150400"
      ]
     },
     "execution_count": 42,
     "metadata": {},
     "output_type": "execute_result"
    }
   ],
   "source": [
    "len(test[['source_1','source_2','people_amount','price_interval5']])"
   ]
  },
  {
   "cell_type": "code",
   "execution_count": 43,
   "metadata": {},
   "outputs": [
    {
     "data": {
      "text/plain": [
       "74659"
      ]
     },
     "execution_count": 43,
     "metadata": {},
     "output_type": "execute_result"
    }
   ],
   "source": [
    "airline = pd.read_csv('airline.csv')\n",
    "len(airline)"
   ]
  },
  {
   "cell_type": "code",
   "execution_count": null,
   "metadata": {},
   "outputs": [],
   "source": []
  },
  {
   "cell_type": "code",
   "execution_count": null,
   "metadata": {},
   "outputs": [],
   "source": []
  },
  {
   "cell_type": "code",
   "execution_count": 44,
   "metadata": {},
   "outputs": [
    {
     "data": {
      "text/plain": [
       "74092"
      ]
     },
     "execution_count": 44,
     "metadata": {},
     "output_type": "execute_result"
    }
   ],
   "source": [
    "len(airline[airline['arrive_time'].apply(lambda x : x.split('/')[0]) == '2017'])"
   ]
  },
  {
   "cell_type": "code",
   "execution_count": 45,
   "metadata": {},
   "outputs": [
    {
     "data": {
      "text/plain": [
       "3"
      ]
     },
     "execution_count": 45,
     "metadata": {},
     "output_type": "execute_result"
    }
   ],
   "source": [
    "len(airline[airline['arrive_time'].apply(lambda x : x.split('/')[0]) == '2016'])"
   ]
  },
  {
   "cell_type": "code",
   "execution_count": 46,
   "metadata": {},
   "outputs": [
    {
     "data": {
      "text/plain": [
       "564"
      ]
     },
     "execution_count": 46,
     "metadata": {},
     "output_type": "execute_result"
    }
   ],
   "source": [
    "len(airline[airline['arrive_time'].apply(lambda x : x.split('/')[0]) == '2018'])"
   ]
  },
  {
   "cell_type": "code",
   "execution_count": 47,
   "metadata": {},
   "outputs": [
    {
     "data": {
      "text/plain": [
       "0        True\n",
       "1        True\n",
       "2        True\n",
       "3        True\n",
       "4        True\n",
       "5        True\n",
       "6        True\n",
       "7        True\n",
       "8        True\n",
       "9        True\n",
       "10       True\n",
       "11       True\n",
       "12       True\n",
       "13       True\n",
       "14       True\n",
       "15       True\n",
       "16       True\n",
       "17       True\n",
       "18       True\n",
       "19       True\n",
       "20       True\n",
       "21       True\n",
       "22       True\n",
       "23       True\n",
       "24       True\n",
       "25       True\n",
       "26       True\n",
       "27       True\n",
       "28       True\n",
       "29       True\n",
       "         ... \n",
       "74629    True\n",
       "74630    True\n",
       "74631    True\n",
       "74632    True\n",
       "74633    True\n",
       "74634    True\n",
       "74635    True\n",
       "74636    True\n",
       "74637    True\n",
       "74638    True\n",
       "74639    True\n",
       "74640    True\n",
       "74641    True\n",
       "74642    True\n",
       "74643    True\n",
       "74644    True\n",
       "74645    True\n",
       "74646    True\n",
       "74647    True\n",
       "74648    True\n",
       "74649    True\n",
       "74650    True\n",
       "74651    True\n",
       "74652    True\n",
       "74653    True\n",
       "74654    True\n",
       "74655    True\n",
       "74656    True\n",
       "74657    True\n",
       "74658    True\n",
       "Name: arrive_time, Length: 74659, dtype: bool"
      ]
     },
     "execution_count": 47,
     "metadata": {},
     "output_type": "execute_result"
    }
   ],
   "source": [
    "airline['arrive_time'].apply(lambda x : x.split('/')[0]) == '2017'"
   ]
  },
  {
   "cell_type": "code",
   "execution_count": null,
   "metadata": {},
   "outputs": [],
   "source": []
  },
  {
   "cell_type": "code",
   "execution_count": null,
   "metadata": {},
   "outputs": [],
   "source": []
  },
  {
   "cell_type": "code",
   "execution_count": null,
   "metadata": {},
   "outputs": [],
   "source": []
  },
  {
   "cell_type": "code",
   "execution_count": null,
   "metadata": {},
   "outputs": [],
   "source": []
  }
 ],
 "metadata": {
  "kernelspec": {
   "display_name": "Python 2",
   "language": "python",
   "name": "python2"
  },
  "language_info": {
   "codemirror_mode": {
    "name": "ipython",
    "version": 2
   },
   "file_extension": ".py",
   "mimetype": "text/x-python",
   "name": "python",
   "nbconvert_exporter": "python",
   "pygments_lexer": "ipython2",
   "version": "2.7.15"
  }
 },
 "nbformat": 4,
 "nbformat_minor": 2
}
